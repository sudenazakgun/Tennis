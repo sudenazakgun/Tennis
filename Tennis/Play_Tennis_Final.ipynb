{
 "cells": [
  {
   "cell_type": "markdown",
   "id": "e34713e0-a03c-4c00-97de-b645572478ea",
   "metadata": {
    "tags": []
   },
   "source": [
    "DESICION TREE MODELİ İLE PLAYTENNIS  ÇALIŞMASI\n",
    "========"
   ]
  },
  {
   "cell_type": "code",
   "execution_count": 1,
   "id": "65c5478b-4399-4a5c-9bd2-5a1dd8658be6",
   "metadata": {},
   "outputs": [],
   "source": [
    "import numpy as np\n",
    "import joblib\n",
    "import pandas as pd\n",
    "import seaborn as sns\n",
    "from sklearn.model_selection import cross_validate, GridSearchCV,train_test_split\n",
    "from sklearn.tree import DecisionTreeClassifier\n",
    "from sklearn.metrics import roc_auc_score\n",
    "from sklearn.preprocessing import StandardScaler\n",
    "import sqlite3 as sql\n",
    "from sklearn.preprocessing import LabelEncoder\n",
    "from sklearn import tree\n",
    "from matplotlib import pyplot as plt"
   ]
  },
  {
   "cell_type": "code",
   "execution_count": 2,
   "id": "55aa500a-9e84-44af-acc0-09731651fccb",
   "metadata": {},
   "outputs": [],
   "source": [
    "#VERİ SETİNİ YÜKLEME\n",
    "df=pd.read_csv(\"PlayTennis.csv\")"
   ]
  },
  {
   "cell_type": "code",
   "execution_count": 3,
   "id": "01b9bf1c-a22a-47f6-bace-453887fe0b24",
   "metadata": {},
   "outputs": [],
   "source": [
    "#HEDEF DEĞİŞKENİ 1 VE 0'LARA ÇEVİRME\n",
    "df['Play Tennis'] = df['Play Tennis'].replace({'Yes': 1, 'No': 0})"
   ]
  },
  {
   "cell_type": "code",
   "execution_count": 4,
   "id": "0257d92c-c3f3-49a0-8f2e-68c0ffca1218",
   "metadata": {},
   "outputs": [],
   "source": [
    "#BAĞIMSIZ DEĞİŞKENLERİ TANIMLAMA\n",
    "bagimsiz_degisken = [col for col in df.columns if \"Play Tennis\" not in col]"
   ]
  },
  {
   "cell_type": "code",
   "execution_count": 5,
   "id": "cd96adcb-cf98-4c56-8ac4-617038ec04d5",
   "metadata": {},
   "outputs": [],
   "source": [
    "#İHTİYAÇ DUYULAN FONKSİYONLARIN TANIMLANMASI\n",
    "\n",
    "def df_kontrol(dataframe, head=5):\n",
    "    \"\"\"\n",
    "    Veri setinin incelenmesine yönelik kolaylık sağlar. Veri setinde baştaki değerler, sondaki değerler, varsa boş değerlerin sayısı\n",
    "    gibi özellikleri getirir.\n",
    "    \n",
    "     Parameters\n",
    "    ------\n",
    "        dataframe: dataframe\n",
    "                incelenmek istenilen dataframe\n",
    "        head: int\n",
    "                veri setinin baş ve son değerlerini getirirken alınacak değer sayısıdır.\n",
    "    \"\"\"\n",
    "    print(\"##################### Shape #####################\")\n",
    "    print(dataframe.shape)\n",
    "    print(\"##################### Types #####################\")\n",
    "    print(dataframe.dtypes)\n",
    "    print(\"##################### Head #####################\")\n",
    "    print(dataframe.head(head))\n",
    "    print(\"##################### Tail #####################\")\n",
    "    print(dataframe.tail(head))\n",
    "    print(\"##################### NA #####################\")\n",
    "    print(dataframe.isnull().sum())\n",
    "\n",
    "def bagimsiz_degisken_ozellikleri(dataframe, bagimsiz_degisken, plot=False):\n",
    "    \"\"\"\n",
    "    Veri setindeki bağımsız değişkenlerde bulunan değerlerin sayısını, bunun tüm veri setine oranını ve istenirse sayma grafiğini getirir.\n",
    "    \n",
    "    Parameters\n",
    "    ------\n",
    "        dataframe: dataframe\n",
    "                bağımsız değişkenlerin alınacağı dataframe\n",
    "        bagimsiz_degisken : str\n",
    "                incelenecek değişkenler\n",
    "        plot: boolean\n",
    "                çıktının grafiği olacak mı olmayacak mı bilgisi\n",
    "    \"\"\"\n",
    "    print(pd.DataFrame({bagimsiz_degisken: dataframe[bagimsiz_degisken].value_counts(),\n",
    "                        \"Ratio\": 100 * dataframe[bagimsiz_degisken].value_counts() / len(dataframe)}))\n",
    "    print(\"##########################################\")\n",
    "    if plot:\n",
    "        sns.countplot(x=dataframe[bagimsiz_degisken], data=dataframe)\n",
    "        plt.show(block=True)\n",
    "        \n",
    "def bagimsiz_degiskenin_hedef_degisken_analizi(dataframe, hedef, bagimsiz_degisken):\n",
    "    \"\"\"\n",
    "    Bağımsız değişkenlerin hedef değişkene göre incelenmesine olanak sağlar.\n",
    "    \n",
    "    Parameters\n",
    "    ------\n",
    "        dataframe: dataframe\n",
    "                bağımsız değişkenlerin alınacağı dataframe\n",
    "        bagimsiz_degisken : str\n",
    "                incelenecek değişkenler\n",
    "        hedef: str\n",
    "                hedef değişken\n",
    "    \n",
    "    \"\"\"\n",
    "    \n",
    "    print(pd.DataFrame({\"TARGET_MEAN\": dataframe.groupby(bagimsiz_degisken)[hedef].mean()}), end=\"\\n\\n\\n\")\n",
    "    \n",
    "def tennis_data_prep(dataframe):\n",
    "    \"\"\"\n",
    "    Veri setinin ilgili modele uygun hale getirilmesi için işlemler uygular. Label Encoding işleminin yapılabilmesi için LabelEncoder'ı\n",
    "    tanımlar. Veri setindeki sütunlara Label Encoding işlemi uygular. Daha temiz bir görünüm için sütun isimlerini büyük harflerle yazar.\n",
    "    Datayı X ve y olarak hedef değişkenin bulunduğu, bulunmadığı parçalara ayırır ve bunları ileriki aşamalarda kullanılabilir bir hale \n",
    "    getirir.\n",
    "    \n",
    "    Parameters\n",
    "    ------\n",
    "        dataframe: dataframe\n",
    "                ilgili verilerin alınacağı dataframe\n",
    "    \n",
    "    \"\"\"\n",
    "    \n",
    "    df = dataframe.copy()\n",
    "    \n",
    "    lb = LabelEncoder()\n",
    "\n",
    "    df['Outlook'] = lb.fit_transform(df['Outlook']) \n",
    "    df['Temperature'] = lb.fit_transform(df['Temperature'] ) \n",
    "    df['Humidity'] = lb.fit_transform(df['Humidity'] ) \n",
    "    df['Wind'] = lb.fit_transform(df['Wind'] )   \n",
    "\n",
    "    df.columns = [col.upper() for col in df.columns]\n",
    "\n",
    "    y = df[\"PLAY TENNIS\"]\n",
    "    X = df.drop([\"PLAY TENNIS\"], axis=1)\n",
    "\n",
    "    return X, y\n"
   ]
  },
  {
   "cell_type": "code",
   "execution_count": 6,
   "id": "e2e6ffa5-efd3-4224-b8fe-1ab74812f128",
   "metadata": {},
   "outputs": [
    {
     "name": "stdout",
     "output_type": "stream",
     "text": [
      "          Outlook      Ratio\n",
      "Sunny           5  35.714286\n",
      "Rain            5  35.714286\n",
      "Overcast        4  28.571429\n",
      "##########################################\n",
      "      Temperature      Ratio\n",
      "Mild            6  42.857143\n",
      "Hot             4  28.571429\n",
      "Cool            4  28.571429\n",
      "##########################################\n",
      "        Humidity  Ratio\n",
      "High           7   50.0\n",
      "Normal         7   50.0\n",
      "##########################################\n",
      "        Wind      Ratio\n",
      "Weak       8  57.142857\n",
      "Strong     6  42.857143\n",
      "##########################################\n"
     ]
    }
   ],
   "source": [
    "#bagimsiz_degisken_ozellikleri FONKSİYONUNUN KULLANIMI\n",
    "for col in bagimsiz_degisken:\n",
    "    bagimsiz_degisken_ozellikleri(df,col)"
   ]
  },
  {
   "cell_type": "code",
   "execution_count": 7,
   "id": "efa67d04-0890-4700-89d5-4be98fe8d816",
   "metadata": {},
   "outputs": [
    {
     "name": "stdout",
     "output_type": "stream",
     "text": [
      "          TARGET_MEAN\n",
      "Outlook              \n",
      "Overcast          1.0\n",
      "Rain              0.6\n",
      "Sunny             0.4\n",
      "\n",
      "\n",
      "             TARGET_MEAN\n",
      "Temperature             \n",
      "Cool            0.750000\n",
      "Hot             0.500000\n",
      "Mild            0.666667\n",
      "\n",
      "\n",
      "          TARGET_MEAN\n",
      "Humidity             \n",
      "High         0.428571\n",
      "Normal       0.857143\n",
      "\n",
      "\n",
      "        TARGET_MEAN\n",
      "Wind               \n",
      "Strong         0.50\n",
      "Weak           0.75\n",
      "\n",
      "\n"
     ]
    }
   ],
   "source": [
    "#bagimsiz_degiskenin_hedef_degisken_analizi FONKSİYONUNUN KULLANIMI\n",
    "for col in bagimsiz_degisken:\n",
    "    bagimsiz_degiskenin_hedef_degisken_analizi(df, \"Play Tennis\", col)"
   ]
  },
  {
   "cell_type": "code",
   "execution_count": 8,
   "id": "2b03c4b7-5a75-4764-80c8-60d1be404d94",
   "metadata": {},
   "outputs": [],
   "source": [
    "#tennis_data_prep fonksiyonu ile train ve test seti hazırlanması\n",
    "X, y = tennis_data_prep(df)\n",
    "X_train,X_test,y_train,y_test = train_test_split(X,y,test_size=0.2,random_state=20)"
   ]
  },
  {
   "cell_type": "code",
   "execution_count": 9,
   "id": "2503d67f-ec94-431d-9a76-32962df68fb6",
   "metadata": {},
   "outputs": [
    {
     "data": {
      "text/plain": [
       "DecisionTreeClassifier(criterion='entropy')"
      ]
     },
     "execution_count": 9,
     "metadata": {},
     "output_type": "execute_result"
    }
   ],
   "source": [
    "#DESICION TREE MODELININ GETİRİLİP, X_train VE y_train SETLERİNİN MODELE FİT EDİLMESİ\n",
    "classifier = tree.DecisionTreeClassifier(criterion = 'entropy')\n",
    "classifier.fit(X_train, y_train)"
   ]
  },
  {
   "cell_type": "code",
   "execution_count": 10,
   "id": "be1550be-6b0f-4b95-b208-639b2146ef5d",
   "metadata": {},
   "outputs": [
    {
     "data": {
      "text/plain": [
       "[Text(0.5555555555555556, 0.875, 'X[0] <= 1.5\\nentropy = 0.946\\nsamples = 11\\nvalue = [4, 7]'),\n",
       " Text(0.3333333333333333, 0.625, 'X[3] <= 0.5\\nentropy = 0.592\\nsamples = 7\\nvalue = [1, 6]'),\n",
       " Text(0.2222222222222222, 0.375, 'X[0] <= 0.5\\nentropy = 1.0\\nsamples = 2\\nvalue = [1, 1]'),\n",
       " Text(0.1111111111111111, 0.125, 'entropy = 0.0\\nsamples = 1\\nvalue = [0, 1]'),\n",
       " Text(0.3333333333333333, 0.125, 'entropy = 0.0\\nsamples = 1\\nvalue = [1, 0]'),\n",
       " Text(0.4444444444444444, 0.375, 'entropy = 0.0\\nsamples = 5\\nvalue = [0, 5]'),\n",
       " Text(0.7777777777777778, 0.625, 'X[2] <= 0.5\\nentropy = 0.811\\nsamples = 4\\nvalue = [3, 1]'),\n",
       " Text(0.6666666666666666, 0.375, 'entropy = 0.0\\nsamples = 3\\nvalue = [3, 0]'),\n",
       " Text(0.8888888888888888, 0.375, 'entropy = 0.0\\nsamples = 1\\nvalue = [0, 1]')]"
      ]
     },
     "execution_count": 10,
     "metadata": {},
     "output_type": "execute_result"
    },
    {
     "data": {
      "image/png": "[encoded data removed]",
      "text/plain": [
       "<Figure size 640x480 with 1 Axes>"
      ]
     },
     "metadata": {},
     "output_type": "display_data"
    }
   ],
   "source": [
    "#MODELDEN ELDE ETTİĞİMİZ KARAR AĞACININ GÖRSELLEŞTİRİLMESİ\n",
    "tree.plot_tree(classifier)"
   ]
  },
  {
   "cell_type": "code",
   "execution_count": 11,
   "id": "bcc99459-ec02-4f65-9273-07d222454f62",
   "metadata": {},
   "outputs": [
    {
     "name": "stdout",
     "output_type": "stream",
     "text": [
      "Eğitim Seti Doğruluk Oranı : 1.0\n",
      "Test Seti Doğruluk Oranı : 1.0\n"
     ]
    }
   ],
   "source": [
    "#TAHMİN TUTARLILIĞININ GETİRİLMESİ\n",
    "\n",
    "X_pred1 = classifier.predict(X_train)\n",
    "train_accuracy = (X_pred1 == y_train).mean()\n",
    "\n",
    "X_pred2 = classifier.predict(X_test)\n",
    "test_accuracy = (X_pred2 == y_test).mean()\n",
    "\n",
    "print(f'Eğitim Seti Doğruluk Oranı : {train_accuracy}')\n",
    "print(f'Test Seti Doğruluk Oranı : {test_accuracy}')"
   ]
  },
  {
   "cell_type": "code",
   "execution_count": 12,
   "id": "bfd483e2-6249-41f7-9242-bf87b618a5e7",
   "metadata": {},
   "outputs": [],
   "source": [
    "#DATABASE OLUŞTURULMASI\n",
    "con = sql.connect('tennis.db')"
   ]
  },
  {
   "cell_type": "code",
   "execution_count": 13,
   "id": "c958e7fb-f6ee-4ab7-93e2-4b679db3f2b0",
   "metadata": {},
   "outputs": [],
   "source": [
    "#DATABASE'DE TABLO OLUŞTURMAK İÇİN VERİ SETİNİN BİR DAHA ALINMASI\n",
    "dff = pd.read_csv(\"PlayTennis.csv\")\n",
    "dff['Play Tennis'] = dff['Play Tennis'].replace({'Yes': 1, 'No': 0})"
   ]
  },
  {
   "cell_type": "code",
   "execution_count": 14,
   "id": "7856a960-b52b-4399-9b62-9e809f3073fc",
   "metadata": {},
   "outputs": [
    {
     "data": {
      "text/plain": [
       "DecisionTreeClassifier(criterion='entropy')"
      ]
     },
     "execution_count": 14,
     "metadata": {},
     "output_type": "execute_result"
    }
   ],
   "source": [
    "#MODELİN BU VERİ SETİNE UYGULANMASI\n",
    "x, Y = tennis_data_prep(dff)\n",
    "classifier.fit(x,Y)"
   ]
  },
  {
   "cell_type": "code",
   "execution_count": 15,
   "id": "ef7cfb90-d54d-4c39-b11d-12282b25839c",
   "metadata": {},
   "outputs": [],
   "source": [
    "#GERÇEK DEĞERİYLE KARŞILAŞTIRMAK İÇİN TAHMİN DEĞERLERİNİN GETİRİLMESİ\n",
    "Prediction = classifier.predict(x)\n",
    "dff[\"Prediction\"] = Prediction"
   ]
  },
  {
   "cell_type": "code",
   "execution_count": 16,
   "id": "315f8bc5-2328-4b0a-8c19-db3180e85830",
   "metadata": {},
   "outputs": [
    {
     "data": {
      "text/plain": [
       "14"
      ]
     },
     "execution_count": 16,
     "metadata": {},
     "output_type": "execute_result"
    }
   ],
   "source": [
    "#DFF VERİ SETİNİN TENNİS DATABASE'İNDE BİR TABLO HALİNE GETİRİLMESİ\n",
    "dff.to_sql('Play_Tennis',con,index=False)"
   ]
  }
 ],
 "metadata": {
  "kernelspec": {
   "display_name": "Python 3 (ipykernel)",
   "language": "python",
   "name": "python3"
  },
  "language_info": {
   "codemirror_mode": {
    "name": "ipython",
    "version": 3
   },
   "file_extension": ".py",
   "mimetype": "text/x-python",
   "name": "python",
   "nbconvert_exporter": "python",
   "pygments_lexer": "ipython3",
   "version": "3.9.13"
  }
 },
 "nbformat": 4,
 "nbformat_minor": 5
}
